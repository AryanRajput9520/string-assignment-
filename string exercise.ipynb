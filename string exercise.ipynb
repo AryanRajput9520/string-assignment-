{
 "cells": [
  {
   "cell_type": "markdown",
   "id": "e10233f7-6576-4671-aeee-6b1c9c7f9501",
   "metadata": {},
   "source": [
    "# 1. How do you concatenate two strings in Python?\n"
   ]
  },
  {
   "cell_type": "code",
   "execution_count": 16,
   "id": "89c4de10-58e7-4be7-9818-d5f9c8e9c753",
   "metadata": {},
   "outputs": [
    {
     "name": "stdout",
     "output_type": "stream",
     "text": [
      "Aryan Rajput\n"
     ]
    }
   ],
   "source": [
    "string1 = \"Aryan \"\n",
    "string2 = \"Rajput\"\n",
    "print(string1 + string2)\n"
   ]
  },
  {
   "cell_type": "markdown",
   "id": "5d6a0109-e09f-45b0-86a4-bb5708784339",
   "metadata": {},
   "source": [
    "# 2. What is the difference between the + operator and the join() method for concatenating strings?  "
   ]
  },
  {
   "cell_type": "code",
   "execution_count": 21,
   "id": "1587c569-2614-4781-acf2-9bc49d6b9152",
   "metadata": {},
   "outputs": [
    {
     "name": "stdout",
     "output_type": "stream",
     "text": [
      "Aryan Rajput\n"
     ]
    }
   ],
   "source": [
    "a = \"Aryan \"      #  operation is used to add small number of string\n",
    "b = \"Rajput\"\n",
    "print(a+b)"
   ]
  },
  {
   "cell_type": "code",
   "execution_count": 28,
   "id": "179c05d6-9d46-4074-ba00-4db6292a65f7",
   "metadata": {},
   "outputs": [
    {
     "name": "stdout",
     "output_type": "stream",
     "text": [
      "hello aryan how r u \n"
     ]
    }
   ],
   "source": [
    "a = \"hello \" , \"aryan \" ,\"how \" , \"r \" , \"u \"   # best for joing many string\n",
    "print(\"\".join(a))"
   ]
  },
  {
   "cell_type": "markdown",
   "id": "90120a5c-7542-4b1f-83da-0135b95f02d6",
   "metadata": {},
   "source": [
    "# 3.How do you access individual characters in a string?"
   ]
  },
  {
   "cell_type": "code",
   "execution_count": 32,
   "id": "f6f4fdc9-6f0b-4638-8d2b-c0cdd3d6ab8b",
   "metadata": {},
   "outputs": [
    {
     "name": "stdout",
     "output_type": "stream",
     "text": [
      "a\n"
     ]
    }
   ],
   "source": [
    "name = \"language\"\n",
    "print(name[1])"
   ]
  },
  {
   "cell_type": "markdown",
   "id": "38152e0c-647d-49d3-92fa-86edaa80de46",
   "metadata": {},
   "source": [
    "#  4. What method is used to find the length of a string in Python?"
   ]
  },
  {
   "cell_type": "code",
   "execution_count": 42,
   "id": "1fc844cf-0c1a-4a7c-8f44-f07b0bf84bf8",
   "metadata": {},
   "outputs": [
    {
     "name": "stdout",
     "output_type": "stream",
     "text": [
      "18\n"
     ]
    }
   ],
   "source": [
    "name = \"hsvhgdsvgdhasdvjha\"    # by using len() method\n",
    "print(len(name))"
   ]
  },
  {
   "cell_type": "markdown",
   "id": "c31a46e7-0ce3-4bca-b13f-27faa9f70b2b",
   "metadata": {},
   "source": [
    "#  5. How can you convert a string to uppercase in Python?"
   ]
  },
  {
   "cell_type": "code",
   "execution_count": 44,
   "id": "736d9128-6383-473b-9015-9dd39ca9463f",
   "metadata": {},
   "outputs": [
    {
     "name": "stdout",
     "output_type": "stream",
     "text": [
      "VISHAL PANDEY\n"
     ]
    }
   ],
   "source": [
    "name = \"vishal pandey\"\n",
    "print(name.upper())"
   ]
  },
  {
   "cell_type": "markdown",
   "id": "a5448ba4-f144-4d33-8893-6a6c1310bb78",
   "metadata": {},
   "source": [
    "#  6. How can you convert a string to lowercase in Python?"
   ]
  },
  {
   "cell_type": "code",
   "execution_count": 47,
   "id": "95fdc41b-f192-4055-86f4-09c2e57d09fd",
   "metadata": {},
   "outputs": [
    {
     "name": "stdout",
     "output_type": "stream",
     "text": [
      "aryan rajput\n"
     ]
    }
   ],
   "source": [
    "string = \"Aryan rajpUt\"\n",
    "print(string.lower())"
   ]
  },
  {
   "cell_type": "markdown",
   "id": "6a2dcee2-b2bc-4970-8621-7cefc5c20332",
   "metadata": {},
   "source": [
    "#  7. What method is used to replace substrings within a string?"
   ]
  },
  {
   "cell_type": "code",
   "execution_count": 52,
   "id": "e0c90241-5723-4743-827d-c425319b7ff1",
   "metadata": {},
   "outputs": [
    {
     "name": "stdout",
     "output_type": "stream",
     "text": [
      "Aryan Rajput\n"
     ]
    }
   ],
   "source": [
    "name = \"Aryan chauhan\"\n",
    "print(name.replace(\"chauhan\",\"Rajput\"))"
   ]
  },
  {
   "cell_type": "markdown",
   "id": "13dc299e-4fee-40a1-be05-94f66a9c3c8d",
   "metadata": {},
   "source": [
    "#  8. How can you split a string into a list of substrings based on a delimiter?"
   ]
  },
  {
   "cell_type": "code",
   "execution_count": 7,
   "id": "a44360b3-3375-4656-b7ce-e026f1e21797",
   "metadata": {},
   "outputs": [
    {
     "name": "stdout",
     "output_type": "stream",
     "text": [
      "['colour,window,room']\n"
     ]
    }
   ],
   "source": [
    "# You can split a string into a list of substrings based on a delimiter using the split() method in Python\n",
    "\n",
    "string = \"colour,window,room\"\n",
    "print(string.split())"
   ]
  },
  {
   "cell_type": "code",
   "execution_count": 9,
   "id": "0af3d9b5-cf25-45ba-be5e-01811e8a67e0",
   "metadata": {},
   "outputs": [
    {
     "name": "stdout",
     "output_type": "stream",
     "text": [
      "['colour', 'window', 'room']\n"
     ]
    }
   ],
   "source": [
    "string = \"colour,window,room\"\n",
    "print(string.split(\",\"))"
   ]
  },
  {
   "cell_type": "markdown",
   "id": "dc27e4c2-d407-405f-85cf-b3593fa0c0d7",
   "metadata": {},
   "source": [
    "# 9. How do you check if a string starts with a particular substring?"
   ]
  },
  {
   "cell_type": "code",
   "execution_count": 14,
   "id": "7d8793f7-4ebb-4572-8c7b-fa8e5dec8321",
   "metadata": {},
   "outputs": [
    {
     "name": "stdout",
     "output_type": "stream",
     "text": [
      "True\n"
     ]
    }
   ],
   "source": [
    "# You can check if a string starts with a particular substring using the .startswith() method in Python.\n",
    "\n",
    "\n",
    "string = \"hi python\"\n",
    "print(string.startswith(\"hi\"))"
   ]
  },
  {
   "cell_type": "markdown",
   "id": "c8cb9487-715d-4725-9170-f201aef353b2",
   "metadata": {},
   "source": [
    "# 10.  How do you check if a string ends with a particular substring?"
   ]
  },
  {
   "cell_type": "code",
   "execution_count": 16,
   "id": "bacf18ed-a010-4589-87fb-12f151f69891",
   "metadata": {},
   "outputs": [
    {
     "name": "stdout",
     "output_type": "stream",
     "text": [
      "True\n"
     ]
    }
   ],
   "source": [
    "# we can check if a string ends with a particular substring using the .endswith() method in Python\n",
    "\n",
    "string = \"my name is aryan\"\n",
    "print(string.endswith(\"n\"))"
   ]
  },
  {
   "cell_type": "markdown",
   "id": "64aa13b1-bf05-4b51-90dc-704e5607e09b",
   "metadata": {},
   "source": [
    "# 11 . How can you remove leading and trailing whitespace from a string? "
   ]
  },
  {
   "cell_type": "code",
   "execution_count": 23,
   "id": "b529b103-3d5c-4d87-b426-ba5bcb97b42c",
   "metadata": {},
   "outputs": [
    {
     "name": "stdout",
     "output_type": "stream",
     "text": [
      "hi\n"
     ]
    }
   ],
   "source": [
    "# You can remove leading and trailing whitespace from a string in Python using the .strip() method\n",
    "\n",
    "string = \" /t  hi          \"\n",
    "print(string.strip(\" /t\"))"
   ]
  },
  {
   "cell_type": "markdown",
   "id": "098178c2-f98b-4d7e-a029-1d3af7a032d4",
   "metadata": {},
   "source": [
    "# 12 . What method is used to find the index of the first occurrence of a substring within a string? "
   ]
  },
  {
   "cell_type": "code",
   "execution_count": 26,
   "id": "fdb7c685-2777-4a89-98f8-d4c544529d78",
   "metadata": {},
   "outputs": [
    {
     "name": "stdout",
     "output_type": "stream",
     "text": [
      "12\n"
     ]
    }
   ],
   "source": [
    "# To find the index of the first occurrence of a substring within a string in Python, you can use the .find() method\n",
    "\n",
    "string = \"python is a programming language\"\n",
    "print(string.index(\"programming\"))"
   ]
  },
  {
   "cell_type": "markdown",
   "id": "c061ce19-9595-4583-afaf-4e450c942d5f",
   "metadata": {},
   "source": [
    "# 13. How can you count the number of occurrences of a substring within a string?"
   ]
  },
  {
   "cell_type": "code",
   "execution_count": 27,
   "id": "5d14d31e-dc6a-4034-ad93-e9881cdb2e82",
   "metadata": {},
   "outputs": [
    {
     "name": "stdout",
     "output_type": "stream",
     "text": [
      "2\n"
     ]
    }
   ],
   "source": [
    "# You can count the number of occurrences of a substring within a string using the .count() method in Python\n",
    "\n",
    "string = \"hi python python hi\"\n",
    "print(string.count(\"hi\"))"
   ]
  },
  {
   "cell_type": "code",
   "execution_count": 31,
   "id": "8926e1cc-29e4-4a1b-bcec-bfb2b5788422",
   "metadata": {},
   "outputs": [
    {
     "name": "stdout",
     "output_type": "stream",
     "text": [
      "1\n"
     ]
    }
   ],
   "source": [
    "string = \"hi python python hi\"\n",
    "print(string.count(\"python\",9,18))"
   ]
  },
  {
   "cell_type": "markdown",
   "id": "f98b5d3e-5551-49a6-9acc-123f06663bba",
   "metadata": {},
   "source": [
    "# 14.  How do you check if a string contains only alphabetic characters?"
   ]
  },
  {
   "cell_type": "code",
   "execution_count": 32,
   "id": "83203cbf-eb05-4aa8-961d-c5e0f423c707",
   "metadata": {},
   "outputs": [
    {
     "name": "stdout",
     "output_type": "stream",
     "text": [
      "True\n"
     ]
    }
   ],
   "source": [
    "# we can check string contains only alphabetic characters by using .alpha() method in python\n",
    "\n",
    "string = \"abcd\"\n",
    "print(string.isalpha())"
   ]
  },
  {
   "cell_type": "code",
   "execution_count": 35,
   "id": "53de405f-efab-4384-9302-70d6e78858a0",
   "metadata": {},
   "outputs": [
    {
     "name": "stdout",
     "output_type": "stream",
     "text": [
      "False\n"
     ]
    }
   ],
   "source": [
    "string = \"abcd efgh\"\n",
    "print(string.isalpha())        #  due to space"
   ]
  },
  {
   "cell_type": "markdown",
   "id": "9bea79cb-e615-401c-af61-cd8ce1596caa",
   "metadata": {},
   "source": [
    "# 15. How do you check if a string contains only numeric characters? "
   ]
  },
  {
   "cell_type": "code",
   "execution_count": 36,
   "id": "2d00d6b9-13d5-4093-a09c-2d408e34144f",
   "metadata": {},
   "outputs": [
    {
     "name": "stdout",
     "output_type": "stream",
     "text": [
      "True\n"
     ]
    }
   ],
   "source": [
    "# To check if a string contains only numeric characters (i.e., digits 0–9), you can use the .isdigit() method in Python\n",
    "\n",
    "string = \"1235\"\n",
    "print(string.isdigit())"
   ]
  },
  {
   "cell_type": "code",
   "execution_count": 38,
   "id": "7261feb5-1bb9-4bdf-8413-38d53416b067",
   "metadata": {},
   "outputs": [
    {
     "name": "stdout",
     "output_type": "stream",
     "text": [
      "False\n"
     ]
    }
   ],
   "source": [
    "string = \"abd123\"\n",
    "print(string.isdigit())      # due to alphabetic"
   ]
  },
  {
   "cell_type": "markdown",
   "id": "d7cbc8ee-eb81-49ec-8611-9efbdcbfd0cd",
   "metadata": {},
   "source": [
    "# 16. How can you check if a string is a palindrome?"
   ]
  },
  {
   "cell_type": "code",
   "execution_count": null,
   "id": "3b80cdb6-9e12-4dfa-91d4-bf67a1a77051",
   "metadata": {},
   "outputs": [],
   "source": []
  },
  {
   "cell_type": "markdown",
   "id": "ba95d6b5-54ef-49cf-bfcc-7b0f5bb0923c",
   "metadata": {},
   "source": [
    "# 17.  How can you reverse a string in Python?"
   ]
  },
  {
   "cell_type": "code",
   "execution_count": 43,
   "id": "a2043c01-a907-47de-b9b8-f8af70383593",
   "metadata": {},
   "outputs": [
    {
     "name": "stdout",
     "output_type": "stream",
     "text": [
      "egaugnal gnimmargorp si nohtyp\n"
     ]
    }
   ],
   "source": [
    "# we can reverse a string in Python using slicing\n",
    "\n",
    "string = \"python is programming language\"\n",
    "print(string[::-1])"
   ]
  },
  {
   "cell_type": "markdown",
   "id": "6a893f00-3b9d-4081-9575-d33914def238",
   "metadata": {},
   "source": [
    "# 18.  How do you format a string with placeholders for variable values?"
   ]
  },
  {
   "cell_type": "code",
   "execution_count": 45,
   "id": "db0aa434-9480-4a16-960e-bb6157b197ba",
   "metadata": {},
   "outputs": [
    {
     "name": "stdout",
     "output_type": "stream",
     "text": [
      "welcome Aryan and your age is 21\n"
     ]
    }
   ],
   "source": [
    "# You can format a string with placeholders for variable values using several method = % operator , f-string , format string\n",
    "\n",
    "name = \"Aryan\"\n",
    "age = \"21\"\n",
    "print(\"welcome %s and your age is %s\" %(name,age))"
   ]
  },
  {
   "cell_type": "code",
   "execution_count": 48,
   "id": "e70adddf-3b29-4c1f-a65b-18861af37e25",
   "metadata": {},
   "outputs": [
    {
     "name": "stdout",
     "output_type": "stream",
     "text": [
      "welcome Aryan and your age is 21\n"
     ]
    }
   ],
   "source": [
    "name = \"Aryan\"\n",
    "age = \"21\"\n",
    "print(\"welcome {} and your age is {}\".format(name,age))"
   ]
  },
  {
   "cell_type": "code",
   "execution_count": 51,
   "id": "3e718a93-608c-4b32-aa1a-273bb8cac627",
   "metadata": {},
   "outputs": [
    {
     "name": "stdout",
     "output_type": "stream",
     "text": [
      "welcome Aryan and your age is 21\n"
     ]
    }
   ],
   "source": [
    "name = \"Aryan\"\n",
    "age = \"21\"\n",
    "print(f\"welcome {name} and your age is {age}\")"
   ]
  },
  {
   "cell_type": "markdown",
   "id": "bb68aa26-56b3-42ae-9dcd-5743dfb4601d",
   "metadata": {},
   "source": [
    "# 19.  How do you access a substring of a string using slicing? "
   ]
  },
  {
   "cell_type": "code",
   "execution_count": 56,
   "id": "ed40eb75-7b9a-48f5-b325-57dfd7482f5f",
   "metadata": {},
   "outputs": [
    {
     "name": "stdout",
     "output_type": "stream",
     "text": [
      "hello world\n"
     ]
    }
   ],
   "source": [
    "# You can access a substring of a string in Python usingslicing with the syntax:\n",
    "# substring = string[start:stop]\n",
    "string = \"hello world\"\n",
    "print(string[::])"
   ]
  },
  {
   "cell_type": "code",
   "execution_count": 58,
   "id": "071036b5-3487-42b2-aae4-f1b46b9af9ef",
   "metadata": {},
   "outputs": [
    {
     "name": "stdout",
     "output_type": "stream",
     "text": [
      "hlowrd\n"
     ]
    }
   ],
   "source": [
    "string = \"hello world\"\n",
    "print(string[::2])"
   ]
  },
  {
   "cell_type": "markdown",
   "id": "99a568b6-fb61-4a0b-81a0-bb84acbb7372",
   "metadata": {},
   "source": [
    "# 20. How can you remove specific characters from a string in Python ?"
   ]
  },
  {
   "cell_type": "code",
   "execution_count": 6,
   "id": "99111f07-ee6c-48b9-8ac6-c8dff867f256",
   "metadata": {},
   "outputs": [
    {
     "name": "stdout",
     "output_type": "stream",
     "text": [
      "hi pythn language\n"
     ]
    }
   ],
   "source": [
    "string = \"hi python language\"\n",
    "print(string.replace(\"o\",\"\"))"
   ]
  },
  {
   "cell_type": "code",
   "execution_count": null,
   "id": "3cd52653-0dff-4611-ba6c-0190b3655c1a",
   "metadata": {},
   "outputs": [],
   "source": []
  }
 ],
 "metadata": {
  "kernelspec": {
   "display_name": "Python 3 (ipykernel)",
   "language": "python",
   "name": "python3"
  },
  "language_info": {
   "codemirror_mode": {
    "name": "ipython",
    "version": 3
   },
   "file_extension": ".py",
   "mimetype": "text/x-python",
   "name": "python",
   "nbconvert_exporter": "python",
   "pygments_lexer": "ipython3",
   "version": "3.12.7"
  }
 },
 "nbformat": 4,
 "nbformat_minor": 5
}
